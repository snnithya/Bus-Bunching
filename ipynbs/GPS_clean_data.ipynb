{
 "cells": [
  {
   "cell_type": "code",
   "execution_count": 1,
   "metadata": {},
   "outputs": [
    {
     "name": "stderr",
     "output_type": "stream",
     "text": [
      "2019-07-15 22:32:03,650\tWARNING worker.py:1341 -- WARNING: Not updating worker name since `setproctitle` is not installed. Install this with `pip install setproctitle` (or ray[debug]) to enable monitoring of worker processes.\n",
      "2019-07-15 22:32:03,651\tINFO node.py:497 -- Process STDOUT and STDERR is being redirected to /tmp/ray/session_2019-07-15_22-32-03_651410_2515/logs.\n",
      "2019-07-15 22:32:03,757\tINFO services.py:409 -- Waiting for redis server at 127.0.0.1:32072 to respond...\n",
      "2019-07-15 22:32:03,873\tINFO services.py:409 -- Waiting for redis server at 127.0.0.1:23204 to respond...\n",
      "2019-07-15 22:32:03,880\tINFO services.py:806 -- Starting Redis shard with 3.44 GB max memory.\n",
      "2019-07-15 22:32:03,893\tINFO node.py:511 -- Process STDOUT and STDERR is being redirected to /tmp/ray/session_2019-07-15_22-32-03_651410_2515/logs.\n",
      "2019-07-15 22:32:03,896\tINFO services.py:1441 -- Starting the Plasma object store with 10.0 GB memory using /tmp.\n"
     ]
    }
   ],
   "source": [
    "import modin.pandas as pd\n",
    "#import pandas as pd\n",
    "import geopy.distance as d\n",
    "from datetime import datetime, timedelta\n",
    "import numpy as np\n",
    "from time import time, mktime\n",
    "from matplotlib import pyplot as plt\n",
    "import copy\n",
    "import multiprocessing as mp"
   ]
  },
  {
   "cell_type": "code",
   "execution_count": 2,
   "metadata": {},
   "outputs": [
    {
     "data": {
      "text/plain": [
       "'\\n# Errors Raised:\\n# 0 - good\\n# 1 - Out of range of Bangalore\\n# 2 - Less than 3 satellites in view\\n# 3 - speed between two pings > 90kmph\\n# 4 - distance covered is non zero in zero time\\n# 5 - Only 1 or less reading from the device\\n# 6 - gps is more than 20 km away from a busstop\\n# 7 - latitude is not between -90 and 90\\n'"
      ]
     },
     "execution_count": 2,
     "metadata": {},
     "output_type": "execute_result"
    }
   ],
   "source": [
    "route_number = '248'\n",
    "'''\n",
    "# Errors Raised:\n",
    "# 0 - good\n",
    "# 1 - Out of range of Bangalore\n",
    "# 2 - Less than 3 satellites in view\n",
    "# 3 - speed between two pings > 90kmph\n",
    "# 4 - distance covered is non zero in zero time\n",
    "# 5 - Only 1 or less reading from the device\n",
    "# 6 - gps is more than 20 km away from a busstop\n",
    "# 7 - latitude is not between -90 and 90\n",
    "'''"
   ]
  },
  {
   "cell_type": "code",
   "execution_count": 8,
   "metadata": {},
   "outputs": [],
   "source": [
    "#bus stop data\n",
    "busstops = pd.read_csv('../data/busstop_lat_long.csv')\n",
    "\n",
    "def calc_dist(row):\n",
    "    return d.distance((row['LAT'], row['LONGITUDE']), (row['prev_LAT'], row['prev_LONGITUDE'])).km\n",
    "\n",
    "def error1(df):\n",
    "    y = (df['LAT'] < 12) | (df['LAT'] > 14) | (df['LONGITUDE'] < 77) | (df['LONGITUDE'] > 78)\n",
    "    df.Usable = df['Usable'].mask(y, 1)\n",
    "    return df\n",
    "\n",
    "def error2(df):\n",
    "    df.Usable = df['Usable'].mask(df['NO_SATELLITE_IN_VIEW'] < 3, 2)\n",
    "    return df\n",
    "\n",
    "def error345(df):\n",
    "    index_3 = []\n",
    "    index_4 = []\n",
    "    print('In 3', df.head())\n",
    "    groups = [x for _, x in df.groupby('DEVICE_ID')]\n",
    "    for x in groups:\n",
    "        x = x[x['Usable'] == 0]\n",
    "        if(len(x) <= 1):\n",
    "            try:\n",
    "                df.Usable = df['Usable'].mask(df.index.isin(x.index.values), 5)\n",
    "            except:\n",
    "                continue\n",
    "        x['prev_LAT'] = x['LAT'].shift(1)\n",
    "        x['prev_LONGITUDE'] = x['LONGITUDE'].shift(1)\n",
    "        x = x.fillna(0)\n",
    "        try:\n",
    "            dist = x[['LAT', 'LONGITUDE', 'prev_LAT', 'prev_LONGITUDE']].apply(calc_dist, axis = 1)\n",
    "            dist.columns = ['dist']\n",
    "        except:\n",
    "            print(x.head())\n",
    "            continue\n",
    "        dist_zeroes = (dist['dist'] == 0)\n",
    "        timevals = pd.to_datetime(x['IST_DATE'], format='%Y-%m-%j %H:%M:%S')\n",
    "        timevals = pd.Series(timevals).diff()\n",
    "        timevals = timevals.fillna(pd.Timedelta(seconds=0))\n",
    "        timevals = timevals / np.timedelta64(1, 'h')\n",
    "        timevals.index = x.index\n",
    "        time_zeroes = (timevals == 0)\n",
    "        speed = dist['dist']/timevals\n",
    "        speed = speed.replace(np.inf, -1)\n",
    "        speed_zeroes = [speed > 90]\n",
    "        a = (~np.array(dist_zeroes) & np.array(time_zeroes))\n",
    "        \n",
    "        index_4.extend(x.loc[a].index.values)\n",
    "        index_3.extend(x.loc[speed_zeroes[0]].index.values)\n",
    "    df.Usable = df['Usable'].mask(df.index.isin(index_3), 3)\n",
    "    df.Usable = df['Usable'].mask(df.index.isin(index_4), 4)\n",
    "\n",
    "    return df\n",
    "\n",
    "def error6(df):\n",
    "    '''\n",
    "    Takes too long to run\n",
    "    '''\n",
    "    index_vals = []\n",
    "    print('starting...')\n",
    "    global busstops\n",
    "    for ind, row in df.iterrows():\n",
    "        flag = 0\n",
    "        busstop_vals = busstops.loc[busstops['route_number'] == route_number]\n",
    "        for _, row_bus in busstops.iterrows():\n",
    "            if d.distance((row['LAT'], row['LONGITUDE']), (row_bus['latitude_current'], row_bus['longitude_current'])).km < 20:\n",
    "                flag = 1\n",
    "                break\n",
    "        if flag == 0:\n",
    "            index_vals.extend(ind)\n",
    "    df.Usable = df['Usable'].mask(df.index.isin(index_vals), 6)\n",
    "    return df\n",
    "\n",
    "def error7(df):\n",
    "    df.Usable = df['Usable'].mask(((df.LAT < -90) | (df.LAT > 90)).values, 7)\n",
    "    return df"
   ]
  },
  {
   "cell_type": "code",
   "execution_count": 9,
   "metadata": {},
   "outputs": [],
   "source": [
    "def clean(df):\n",
    "    '''Calls all the error cleaning functions'''\n",
    "    df = error1(df)\n",
    "    df = error2(df)\n",
    "    df = error7(df)\n",
    "    df = error345(df)\n",
    "    #df = error6(df)\n",
    "    return df"
   ]
  },
  {
   "cell_type": "code",
   "execution_count": 10,
   "metadata": {},
   "outputs": [],
   "source": [
    "def main():\n",
    "    df = pd.read_csv('../new_data/gps_data/248.csv', encoding=\"ISO-8859-1\")\n",
    "    #df = df.reset_index(drop=True)\n",
    "    df = df.assign(Usable=0)\n",
    "    print(df.head())\n",
    "    obj = clean(df)\n",
    "    print(df.Usable.value_counts())\n",
    "    df.to_csv('../new_data/gps_data/248_cleaned.csv')"
   ]
  },
  {
   "cell_type": "code",
   "execution_count": 11,
   "metadata": {
    "scrolled": true
   },
   "outputs": [
    {
     "name": "stderr",
     "output_type": "stream",
     "text": [
      "UserWarning: `DataFrame.assign` defaulting to pandas implementation.\n"
     ]
    },
    {
     "name": "stdout",
     "output_type": "stream",
     "text": [
      "   DEVICE_ID  NO_SATELLITE_IN_VIEW        LAT  LONGITUDE             IST_DATE  \\\n",
      "0  150219070                    12  13.020047  77.500496  2018-01-01 00:00:00   \n",
      "1  150812834                    11  12.951339  77.536781  2018-01-01 00:00:00   \n",
      "2  150222862                     4  12.927841  77.585922  2018-01-01 00:00:02   \n",
      "3  150810141                    11  13.045315  77.525513  2018-01-01 00:00:03   \n",
      "4  150219481                    12  13.019383  77.501137  2018-01-01 00:00:04   \n",
      "\n",
      "   Usable  \n",
      "0       0  \n",
      "1       0  \n",
      "2       0  \n",
      "3       0  \n",
      "4       0  \n",
      "In 3    DEVICE_ID  NO_SATELLITE_IN_VIEW        LAT  LONGITUDE             IST_DATE  \\\n",
      "0  150219070                    12  13.020047  77.500496  2018-01-01 00:00:00   \n",
      "1  150812834                    11  12.951339  77.536781  2018-01-01 00:00:00   \n",
      "2  150222862                     4  12.927841  77.585922  2018-01-01 00:00:02   \n",
      "3  150810141                    11  13.045315  77.525513  2018-01-01 00:00:03   \n",
      "4  150219481                    12  13.019383  77.501137  2018-01-01 00:00:04   \n",
      "\n",
      "   Usable  \n",
      "0       0  \n",
      "1       0  \n",
      "2       0  \n",
      "3       0  \n",
      "4       0  \n",
      "Empty DataFrame\n",
      "Columns: [DEVICE_ID, NO_SATELLITE_IN_VIEW, LAT, LONGITUDE, IST_DATE, Usable]\n",
      "Index: []\n",
      "Empty DataFrame\n",
      "Columns: [DEVICE_ID, NO_SATELLITE_IN_VIEW, LAT, LONGITUDE, IST_DATE, Usable]\n",
      "Index: []\n",
      "0    157985\n",
      "1       350\n",
      "4        39\n",
      "dtype: int64\n"
     ]
    }
   ],
   "source": [
    "main()"
   ]
  },
  {
   "cell_type": "code",
   "execution_count": null,
   "metadata": {},
   "outputs": [],
   "source": [
    "busstops.loc[busstops['route_number'] == route_number]"
   ]
  },
  {
   "cell_type": "code",
   "execution_count": null,
   "metadata": {},
   "outputs": [],
   "source": []
  }
 ],
 "metadata": {
  "kernelspec": {
   "display_name": "Python 3",
   "language": "python",
   "name": "python3"
  },
  "language_info": {
   "codemirror_mode": {
    "name": "ipython",
    "version": 3
   },
   "file_extension": ".py",
   "mimetype": "text/x-python",
   "name": "python",
   "nbconvert_exporter": "python",
   "pygments_lexer": "ipython3",
   "version": "3.6.8"
  }
 },
 "nbformat": 4,
 "nbformat_minor": 2
}
