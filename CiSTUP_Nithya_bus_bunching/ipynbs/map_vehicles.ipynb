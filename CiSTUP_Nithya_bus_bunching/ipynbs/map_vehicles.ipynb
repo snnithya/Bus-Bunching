{
 "cells": [
  {
   "cell_type": "code",
   "execution_count": 1,
   "metadata": {},
   "outputs": [],
   "source": [
    "import pandas as pd\n",
    "import os\n",
    "import numpy as np\n",
    "import math"
   ]
  },
  {
   "cell_type": "code",
   "execution_count": null,
   "metadata": {},
   "outputs": [],
   "source": [
    "file_path_tickets = \"\"\n",
    "file_path_vehicles = \"\"\n",
    "file_path_mapped = \"\"\n",
    "file_path_single_route = \"\""
   ]
  },
  {
   "cell_type": "code",
   "execution_count": 2,
   "metadata": {},
   "outputs": [
    {
     "name": "stderr",
     "output_type": "stream",
     "text": [
      "/Users/nithya/anaconda3/lib/python3.6/site-packages/IPython/core/interactiveshell.py:3020: DtypeWarning: Columns (28,31,40) have mixed types. Specify dtype option on import or set low_memory=False.\n",
      "  interactivity=interactivity, compiler=compiler, result=result)\n"
     ]
    }
   ],
   "source": [
    "df = pd.read_csv(file_path_tickets)\n",
    "veh = pd.read_csv(file_path_vehicles)"
   ]
  },
  {
   "cell_type": "code",
   "execution_count": 4,
   "metadata": {},
   "outputs": [],
   "source": [
    "#splitting schedule number into bus number (called route number in code) and trip number\n",
    "x = df.schedule_no.str.split('/', 2, expand = True)"
   ]
  },
  {
   "cell_type": "code",
   "execution_count": 5,
   "metadata": {},
   "outputs": [],
   "source": [
    "x.drop_duplicates(inplace=True)"
   ]
  },
  {
   "cell_type": "code",
   "execution_count": 6,
   "metadata": {},
   "outputs": [],
   "source": [
    "x.columns = ['route_number', 'no_trips']\n",
    "#x.to_csv('../new_data/no_of_trips.csv')"
   ]
  },
  {
   "cell_type": "code",
   "execution_count": 7,
   "metadata": {},
   "outputs": [],
   "source": [
    "#replace schedule number with just the bus number\n",
    "df.schedule_no = x['route_number']"
   ]
  },
  {
   "cell_type": "code",
   "execution_count": 8,
   "metadata": {},
   "outputs": [],
   "source": [
    "routes = ['248']\n",
    "path = file_path_mapped\n",
    "single_route = pd.read_csv(file_path_single_route)\n"
   ]
  },
  {
   "cell_type": "code",
   "execution_count": 10,
   "metadata": {},
   "outputs": [
    {
     "name": "stdout",
     "output_type": "stream",
     "text": [
      "../new_data/vehicle_no/248\n",
      "['KA53F0181', 'KA53F0137', 'KA53F0091', 'KA01FA1259', 'KA57F0298', 'KA01FA1986', 'KA57F0396', 'KA01F8986', 'KA57F0098', 'KA57F2265', 'KA53F0030', 'KA57F2263', 'KA01F4710', 'KA01FA0986', 'KA01F9305', 'KA01FA0200', 'KA01FA1937', 'KA57F1863', 'KA01F4743', 'KA57F2104', 'KA01FA1310', 'KA01F4674', 'KA01F8771', 'KA01FA0131', 'KA57F0737', 'KA57F0779']\n"
     ]
    }
   ],
   "source": [
    "#os.mkdir('..new_data/')\n",
    "for r in routes:\n",
    "    toremove = []\n",
    "    print('{}'.format(path+r))\n",
    "    #os.mkdir('{}'.format(path + r))\n",
    "    v_no = df.loc[df.schedule_no == r, 'vehicle_no']\n",
    "    d_no = []\n",
    "    for v in v_no:\n",
    "        x = veh.loc[veh.vehicle_no == v, 'device_id'].unique().tolist()\n",
    "        if len(x) == 0:\n",
    "            toremove.append(v)\n",
    "        elif v not in set(single_route['vehicle_no']):\n",
    "            toremove.append(v)\n",
    "        elif x[0] != x[0]:\n",
    "            #check for nan\n",
    "            print(x[0])\n",
    "            toremove.append(v)\n",
    "        else:\n",
    "            d_no.append(x[0])\n",
    "    v = [v for v in v_no if v not in set(toremove)]\n",
    "    pd.DataFrame({'Vehicle_no': v, 'Device_id': d_no}).to_csv(path+r+'/vd.csv')"
   ]
  },
  {
   "cell_type": "code",
   "execution_count": null,
   "metadata": {},
   "outputs": [],
   "source": []
  },
  {
   "cell_type": "code",
   "execution_count": null,
   "metadata": {},
   "outputs": [],
   "source": []
  }
 ],
 "metadata": {
  "kernelspec": {
   "display_name": "Python 3",
   "language": "python",
   "name": "python3"
  },
  "language_info": {
   "codemirror_mode": {
    "name": "ipython",
    "version": 3
   },
   "file_extension": ".py",
   "mimetype": "text/x-python",
   "name": "python",
   "nbconvert_exporter": "python",
   "pygments_lexer": "ipython3",
   "version": "3.6.8"
  }
 },
 "nbformat": 4,
 "nbformat_minor": 2
}
