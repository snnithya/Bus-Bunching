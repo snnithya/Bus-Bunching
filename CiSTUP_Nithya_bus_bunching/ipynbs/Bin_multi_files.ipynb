{
 "cells": [
  {
   "cell_type": "code",
   "execution_count": 8,
   "metadata": {},
   "outputs": [],
   "source": [
    "import pandas as pd\n",
    "import numpy as np\n",
    "from datetime import datetime, timedelta\n",
    "import os\n",
    "from scipy import stats"
   ]
  },
  {
   "cell_type": "code",
   "execution_count": 9,
   "metadata": {},
   "outputs": [],
   "source": [
    "path_t = '../new_data/ticket_data'\n",
    "new_path_t = '../new_data/ticket_bin_data'\n",
    "path_g = '../new_data/gps_data/248'\n",
    "new_path_g = '../new_data/gps_bin_data'"
   ]
  },
  {
   "cell_type": "code",
   "execution_count": 10,
   "metadata": {},
   "outputs": [],
   "source": [
    "def find_mode(x):\n",
    "    #print(x)\n",
    "    if len(x) == 0:\n",
    "        return pd.DataFrame({'time_bins': x.index, 'trip_no': np.nan, 'route_direction': np.nan})\n",
    "    else:\n",
    "        \n",
    "        return (x.mode()[:1])\n",
    "        #print((x.mode()['trip_no'][0]))\n",
    "        #return x.mode()[0]"
   ]
  },
  {
   "cell_type": "code",
   "execution_count": 11,
   "metadata": {
    "scrolled": true
   },
   "outputs": [
    {
     "name": "stdout",
     "output_type": "stream",
     "text": [
      "150811206.csv\n",
      "150219070.csv\n",
      "9999571878.csv\n",
      "150813512.csv\n",
      "150221167.csv\n",
      "150219981.csv\n",
      "150222862.csv\n",
      "150219166.csv\n",
      "150810141.csv\n",
      "150218457.csv\n",
      "150813677.csv\n",
      "150221017.csv\n",
      "150221995.csv\n",
      "150813850.csv\n",
      "150222051.csv\n",
      "150222060.csv\n",
      "150218896.csv\n",
      "9999572104.csv\n",
      "150812834.csv\n",
      "150221817.csv\n",
      "150219781.csv\n",
      "150220013.csv\n",
      "9999571863.csv\n",
      "150220188.csv\n",
      "150222947.csv\n",
      "150219481.csv\n",
      "150220957.csv\n"
     ]
    }
   ],
   "source": [
    "for file in os.listdir(path_t):\n",
    "    if file in ['.DS_Store', '150221542.csv', '150222824.csv', '150221806.csv', '150221685.csv', '150218358.csv', \n",
    "                '150814778.csv', '150218031.csv']:\n",
    "        continue\n",
    "    print(file)\n",
    "    tickets = pd.read_csv(os.path.join(path_t, file))\n",
    "    new_date = []\n",
    "    for x in list(zip(tickets.ticket_date, tickets.ticket_time)):\n",
    "        new_date.append(x[0] + ' ' + x[1])\n",
    "    tickets.ticket_time = pd.to_datetime(new_date, infer_datetime_format=True)\n",
    "    bins = [datetime(2018, 1, 1, 0, 0, 0) + timedelta(seconds = x) for x in range(0, 86410, 10)]\n",
    "    labels = [x for x in range(0, 86400, 10)]\n",
    "    time_bins = pd.Series(pd.cut(tickets.ticket_time, bins = bins, labels = labels))\n",
    "    tickets['time_bins'] = time_bins\n",
    "    tickets['route_direction'] = pd.Series(tickets['route_no'].apply(lambda x: 'UP' if 'UP' in x else 'DN'))\n",
    "    temp_directions = tickets[['time_bins', 'trip_no', 'route_direction']].groupby('time_bins', sort = True).apply(find_mode)\n",
    "    map_vals = tickets.groupby(by = 'time_bins').agg({'total_ticket_amount': sum, 'px_count': sum})\n",
    "    #map_vals.set_index('time_bins', inplace = True)\n",
    "    temp_directions.set_index('time_bins', inplace = True)\n",
    "    #print(temp_directions)\n",
    "    map_vals['trip_no'] = temp_directions['trip_no']\n",
    "    map_vals['route_direction'] = temp_directions['route_direction']\n",
    "    map_vals = map_vals.fillna(method = 'ffill')\n",
    "    map_vals = map_vals.fillna('NA')\n",
    "    #print(map_vals)\n",
    "    map_vals.to_csv(os.path.join(new_path_t, file))\n",
    "    "
   ]
  },
  {
   "cell_type": "code",
   "execution_count": 15,
   "metadata": {},
   "outputs": [
    {
     "name": "stdout",
     "output_type": "stream",
     "text": [
      "Index(['Unnamed: 0', 'DEVICE_ID', 'NO_SATELLITE_IN_VIEW', 'LAT', 'LONGITUDE',\n",
      "       'IST_DATE', 'Usable'],\n",
      "      dtype='object')\n",
      "Index(['Unnamed: 0', 'DEVICE_ID', 'NO_SATELLITE_IN_VIEW', 'LAT', 'LONGITUDE',\n",
      "       'IST_DATE', 'Usable'],\n",
      "      dtype='object')\n",
      "Index(['Unnamed: 0', 'DEVICE_ID', 'NO_SATELLITE_IN_VIEW', 'LAT', 'LONGITUDE',\n",
      "       'IST_DATE', 'Usable'],\n",
      "      dtype='object')\n",
      "Index(['Unnamed: 0', 'DEVICE_ID', 'NO_SATELLITE_IN_VIEW', 'LAT', 'LONGITUDE',\n",
      "       'IST_DATE', 'Usable'],\n",
      "      dtype='object')\n",
      "Index(['Unnamed: 0', 'DEVICE_ID', 'NO_SATELLITE_IN_VIEW', 'LAT', 'LONGITUDE',\n",
      "       'IST_DATE', 'Usable'],\n",
      "      dtype='object')\n",
      "Index(['Unnamed: 0', 'DEVICE_ID', 'NO_SATELLITE_IN_VIEW', 'LAT', 'LONGITUDE',\n",
      "       'IST_DATE', 'Usable'],\n",
      "      dtype='object')\n",
      "Index(['Unnamed: 0', 'DEVICE_ID', 'NO_SATELLITE_IN_VIEW', 'LAT', 'LONGITUDE',\n",
      "       'IST_DATE', 'Usable'],\n",
      "      dtype='object')\n",
      "Index(['Unnamed: 0', 'DEVICE_ID', 'NO_SATELLITE_IN_VIEW', 'LAT', 'LONGITUDE',\n",
      "       'IST_DATE', 'Usable'],\n",
      "      dtype='object')\n",
      "Index(['Unnamed: 0', 'DEVICE_ID', 'NO_SATELLITE_IN_VIEW', 'LAT', 'LONGITUDE',\n",
      "       'IST_DATE', 'Usable'],\n",
      "      dtype='object')\n",
      "Index(['Unnamed: 0', 'DEVICE_ID', 'NO_SATELLITE_IN_VIEW', 'LAT', 'LONGITUDE',\n",
      "       'IST_DATE', 'Usable'],\n",
      "      dtype='object')\n",
      "Index(['Unnamed: 0', 'DEVICE_ID', 'NO_SATELLITE_IN_VIEW', 'LAT', 'LONGITUDE',\n",
      "       'IST_DATE', 'Usable'],\n",
      "      dtype='object')\n",
      "Index(['Unnamed: 0', 'DEVICE_ID', 'NO_SATELLITE_IN_VIEW', 'LAT', 'LONGITUDE',\n",
      "       'IST_DATE', 'Usable'],\n",
      "      dtype='object')\n",
      "Index(['Unnamed: 0', 'DEVICE_ID', 'NO_SATELLITE_IN_VIEW', 'LAT', 'LONGITUDE',\n",
      "       'IST_DATE', 'Usable'],\n",
      "      dtype='object')\n",
      "Index(['Unnamed: 0', 'DEVICE_ID', 'NO_SATELLITE_IN_VIEW', 'LAT', 'LONGITUDE',\n",
      "       'IST_DATE', 'Usable'],\n",
      "      dtype='object')\n",
      "Index(['Unnamed: 0', 'DEVICE_ID', 'NO_SATELLITE_IN_VIEW', 'LAT', 'LONGITUDE',\n",
      "       'IST_DATE', 'Usable'],\n",
      "      dtype='object')\n",
      "Index(['Unnamed: 0', 'DEVICE_ID', 'NO_SATELLITE_IN_VIEW', 'LAT', 'LONGITUDE',\n",
      "       'IST_DATE', 'Usable'],\n",
      "      dtype='object')\n",
      "Index(['Unnamed: 0', 'DEVICE_ID', 'NO_SATELLITE_IN_VIEW', 'LAT', 'LONGITUDE',\n",
      "       'IST_DATE', 'Usable'],\n",
      "      dtype='object')\n",
      "Index(['Unnamed: 0', 'DEVICE_ID', 'NO_SATELLITE_IN_VIEW', 'LAT', 'LONGITUDE',\n",
      "       'IST_DATE', 'Usable'],\n",
      "      dtype='object')\n",
      "Index(['Unnamed: 0', 'DEVICE_ID', 'NO_SATELLITE_IN_VIEW', 'LAT', 'LONGITUDE',\n",
      "       'IST_DATE', 'Usable'],\n",
      "      dtype='object')\n",
      "Index(['Unnamed: 0', 'DEVICE_ID', 'NO_SATELLITE_IN_VIEW', 'LAT', 'LONGITUDE',\n",
      "       'IST_DATE', 'Usable'],\n",
      "      dtype='object')\n",
      "Index(['Unnamed: 0', 'DEVICE_ID', 'NO_SATELLITE_IN_VIEW', 'LAT', 'LONGITUDE',\n",
      "       'IST_DATE', 'Usable'],\n",
      "      dtype='object')\n"
     ]
    }
   ],
   "source": [
    "for file in os.listdir(path_g):\n",
    "    if file == '.DS_Store':\n",
    "        continue\n",
    "    gps = pd.read_csv(os.path.join(path_g, file))\n",
    "    print(gps.columns)\n",
    "    dates_gps = pd.to_datetime(gps.loc[:, 'IST_DATE'], infer_datetime_format=True)\n",
    "    map_vals_gps = gps.loc[:,['LAT', 'LONGITUDE']]\n",
    "    bins = [datetime(2018, 1, 1, 0, 0, 0) + timedelta(seconds = x) for x in range(0, 86410, 10)]\n",
    "    labels = [x for x in range(0, 86400, 10)]\n",
    "    time_bins = pd.cut(dates_gps, bins = bins, labels = labels)\n",
    "    map_vals_gps['time_bins'] = time_bins\n",
    "    map_vals_gps = map_vals_gps.groupby(by = 'time_bins', axis = 0, sort = True).mean()\n",
    "    direction = (pd.read_csv(new_path_t + '/' + file)['route_direction'].unique())\n",
    "    if direction[1] == 'UP':\n",
    "        map_vals_gps.LAT = map_vals_gps.LAT.fillna(method='ffill').fillna(12.956759)\n",
    "        map_vals_gps.LONGITUDE = map_vals_gps.LONGITUDE.fillna(method = 'ffill').fillna(value = 77.573600) \n",
    "    else:\n",
    "        map_vals_gps.LAT = map_vals_gps.LAT.fillna(method='ffill').fillna(13.039549)\n",
    "        map_vals_gps.LONGITUDE = map_vals_gps.LONGITUDE.fillna(method = 'ffill').fillna(value = 77.518198)\n",
    "    map_vals_gps.to_csv(os.path.join(new_path_g, file))\n",
    "    \n",
    "    \n",
    "    "
   ]
  },
  {
   "cell_type": "code",
   "execution_count": null,
   "metadata": {},
   "outputs": [],
   "source": []
  },
  {
   "cell_type": "code",
   "execution_count": null,
   "metadata": {},
   "outputs": [],
   "source": []
  }
 ],
 "metadata": {
  "kernelspec": {
   "display_name": "Python 3",
   "language": "python",
   "name": "python3"
  },
  "language_info": {
   "codemirror_mode": {
    "name": "ipython",
    "version": 3
   },
   "file_extension": ".py",
   "mimetype": "text/x-python",
   "name": "python",
   "nbconvert_exporter": "python",
   "pygments_lexer": "ipython3",
   "version": "3.6.8"
  }
 },
 "nbformat": 4,
 "nbformat_minor": 2
}
